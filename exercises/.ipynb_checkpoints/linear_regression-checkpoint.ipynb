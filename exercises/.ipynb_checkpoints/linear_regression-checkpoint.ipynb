{
 "cells": [
  {
   "cell_type": "markdown",
   "metadata": {},
   "source": [
    "# Linear Regression with TensorFlow"
   ]
  },
  {
   "cell_type": "code",
   "execution_count": null,
   "metadata": {},
   "outputs": [],
   "source": [
    "import numpy as np\n",
    "import tensorflow as tf\n",
    "import matplotlib.pyplot as plt\n",
    "from IPython import display"
   ]
  },
  {
   "cell_type": "code",
   "execution_count": null,
   "metadata": {},
   "outputs": [],
   "source": [
    "# Step 1: create data\n",
    "x_input = np.linspace(-1, 1, 100)\n",
    "y_input = x_input * 3 + np.random.randn(x_input.shape[0]) * 0.5"
   ]
  },
  {
   "cell_type": "code",
   "execution_count": null,
   "metadata": {},
   "outputs": [],
   "source": [
    "# visualize data\n",
    "plt.scatter(x_input, y_input)\n",
    "plt.show()"
   ]
  },
  {
   "cell_type": "code",
   "execution_count": null,
   "metadata": {},
   "outputs": [],
   "source": [
    "# Step 2: create placeholders for input X and label Y\n",
    "X = # INSERT CODE\n",
    "Y = # INSERT CODE"
   ]
  },
  {
   "cell_type": "code",
   "execution_count": null,
   "metadata": {},
   "outputs": [],
   "source": [
    "# Step 3: create weight and bias, initialized to 0\n",
    "w = # INSERT CODE\n",
    "b = # INSERT CODE"
   ]
  },
  {
   "cell_type": "code",
   "execution_count": null,
   "metadata": {},
   "outputs": [],
   "source": [
    "# Step 4: construct model to predict Y from X\n",
    "Y_predicted = X * w + b"
   ]
  },
  {
   "cell_type": "code",
   "execution_count": null,
   "metadata": {},
   "outputs": [],
   "source": [
    "# Step 5: use the square error as the loss function\n",
    "loss = tf.square(Y - Y_predicted, name=\"loss\")"
   ]
  },
  {
   "cell_type": "code",
   "execution_count": null,
   "metadata": {},
   "outputs": [],
   "source": [
    "# Step 6: using gradient descent with learning rate to minimize loss function\n",
    "optimizer = # INSERT CODE"
   ]
  },
  {
   "cell_type": "code",
   "execution_count": null,
   "metadata": {},
   "outputs": [],
   "source": [
    "with tf.Session() as sess:  \n",
    "    \n",
    "    # Step 7: initialize variables, w and b\n",
    "    sess.run(tf.global_variables_initializer())\n",
    "\n",
    "    # Step 8: train the model\n",
    "    for i in range(100): # run epochs\n",
    "        for x, y in zip(x_input, y_input):\n",
    "            # Session runs train_op to minimize loss\n",
    "            # INSERT CODE\n",
    "        \n",
    "        # print current weight and bias\n",
    "        if i % 10 == 0:\n",
    "            w_value, b_value = sess.run([w, b])\n",
    "            # plot graph\n",
    "            display.clear_output(wait=True)\n",
    "            print(\"Epoch = {:2d} - weight = {:9.6f}, bias = {:9.6f}\".format(i, w_value, b_value))\n",
    "            plt.scatter(x_input, y_input)\n",
    "            plt.plot(x_input, [i * w_value + b_value for i in x_input], 'r-')\n",
    "            plt.show()\n",
    "            \n",
    "    # Step 9: output the values of w and b\n",
    "    w_value, b_value = sess.run([w, b])\n",
    "\n",
    "    # plot final graph\n",
    "    display.clear_output()\n",
    "    print(\"\\nFinal: weight = {:8.7f}, bias = {:8.7f}\".format(w_value, b_value))\n",
    "    plt.scatter(x_input, y_input)\n",
    "    plt.plot(x_input, [i * w_value + b_value for i in x_input], 'r-')\n",
    "    plt.show()"
   ]
  }
 ],
 "metadata": {
  "kernelspec": {
   "display_name": "Python 2",
   "language": "python",
   "name": "python2"
  },
  "language_info": {
   "codemirror_mode": {
    "name": "ipython",
    "version": 2
   },
   "file_extension": ".py",
   "mimetype": "text/x-python",
   "name": "python",
   "nbconvert_exporter": "python",
   "pygments_lexer": "ipython2",
   "version": "2.7.15"
  }
 },
 "nbformat": 4,
 "nbformat_minor": 2
}
