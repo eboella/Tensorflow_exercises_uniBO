{
 "cells": [
  {
   "cell_type": "markdown",
   "metadata": {},
   "source": [
    "# Linear Binary Classification"
   ]
  },
  {
   "cell_type": "code",
   "execution_count": null,
   "metadata": {},
   "outputs": [],
   "source": [
    "import numpy as np\n",
    "import tensorflow as tf\n",
    "import matplotlib.pyplot as plt\n",
    "from IPython import display"
   ]
  },
  {
   "cell_type": "code",
   "execution_count": null,
   "metadata": {},
   "outputs": [],
   "source": [
    "# prepare data\n",
    "from data import get_2bubbles, get_2bubbles_oblate, get_2bubbles_prolate, get_4bubbles, get_circles\n",
    "\n",
    "num_data = 500\n",
    "\n",
    "x_data, y_target = get_2bubbles(num_data)\n",
    "\n",
    "plt.set_cmap(plt.cm.bwr)\n",
    "plt.scatter(x_data[:,0], x_data[:,1], c=y_target.ravel())\n",
    "plt.show()"
   ]
  },
  {
   "cell_type": "code",
   "execution_count": null,
   "metadata": {},
   "outputs": [],
   "source": [
    "n_features = x_data.shape[1]\n",
    "n_class = y_target.shape[1]\n",
    "\n",
    "print(\"number of features =\", n_features)\n",
    "print(\"number of classes  =\", n_class)"
   ]
  },
  {
   "cell_type": "code",
   "execution_count": null,
   "metadata": {},
   "outputs": [],
   "source": [
    "# parameters\n",
    "learning_rate   = 0.3\n",
    "training_epochs = 10000\n",
    "err_threshold   = 1.e-6"
   ]
  },
  {
   "cell_type": "code",
   "execution_count": null,
   "metadata": {},
   "outputs": [],
   "source": [
    "# placeholders\n",
    "X = # INSERT CODE\n",
    "Y = # INSERT CODE\n",
    "\n",
    "# variables\n",
    "w = # INSERT CODE\n",
    "b = # INSERT CODE\n",
    "\n",
    "# operations\n",
    "y_model = # INSERT CODE\n",
    "\n",
    "# cost Function\n",
    "loss = # INSERT CODE\n",
    "\n",
    "# optimizer\n",
    "optimizer = # INSERT CODE\n"
   ]
  },
  {
   "cell_type": "code",
   "execution_count": null,
   "metadata": {},
   "outputs": [],
   "source": [
    "def plot_decision_boundary():\n",
    "    plt.figure(figsize=(15, 10))\n",
    "    # plot decision boundary\n",
    "    plt.subplot(221)\n",
    "    xv, yv = np.meshgrid(linsp, linsp)\n",
    "    zv = y_predict.reshape(xv.shape)\n",
    "    ics = plt.contourf(xv, yv, zv, zdir='z', offset=0, alpha=0.5)\n",
    "    #plt.colorbar(ics)\n",
    "    plt.scatter(x_data[:,0], x_data[:,1], c=y_target.ravel())\n",
    "    # plot error\n",
    "    plt.subplot(222)\n",
    "    plt.plot([x for x in range(epoch+1)], loss_values)\n",
    "    plt.xlabel(\"Epoch\")\n",
    "    plt.ylabel(\"loss function value\")\n",
    "    plt.show()\n",
    "    \n",
    "# to plot\n",
    "off = 0.2\n",
    "linsp = np.linspace(-1-off, 1+off)\n",
    "x_predict = np.asarray([np.array([i, j]) for i in linsp for j in linsp])\n",
    "\n",
    "loss_values = []"
   ]
  },
  {
   "cell_type": "code",
   "execution_count": null,
   "metadata": {},
   "outputs": [],
   "source": [
    "with tf.Session() as sess:\n",
    "    sess.run(tf.global_variables_initializer())\n",
    "\n",
    "    # Training\n",
    "    prev_err = 0\n",
    "    for epoch in range(training_epochs):\n",
    "        err, _ = # INSERT CODE\n",
    "\n",
    "        loss_values.append(err)\n",
    "\n",
    "        if epoch % 100 == 0:\n",
    "            # Prediction\n",
    "            y_predict = sess.run(y_model, {X: x_predict})\n",
    "            display.clear_output(wait=True)\n",
    "            print(\"Epoch = {:2d} - error = {:9.6f}, diff = {:e}\".format(epoch, err, abs(err - prev_err)))\n",
    "            plot_decision_boundary()\n",
    "\n",
    "        if abs(prev_err - err) < err_threshold:\n",
    "            print(\"Exit: diff = {:e}\".format(abs(err - prev_err)))\n",
    "            break\n",
    "\n",
    "        prev_err = err\n",
    "\n",
    "    # Prediction\n",
    "    y_predict = sess.run(y_model, {X: x_predict})"
   ]
  }
 ],
 "metadata": {
  "kernelspec": {
   "display_name": "Python 3",
   "language": "python",
   "name": "python3"
  },
  "language_info": {
   "codemirror_mode": {
    "name": "ipython",
    "version": 3
   },
   "file_extension": ".py",
   "mimetype": "text/x-python",
   "name": "python",
   "nbconvert_exporter": "python",
   "pygments_lexer": "ipython3",
   "version": "3.4.3"
  }
 },
 "nbformat": 4,
 "nbformat_minor": 2
}
