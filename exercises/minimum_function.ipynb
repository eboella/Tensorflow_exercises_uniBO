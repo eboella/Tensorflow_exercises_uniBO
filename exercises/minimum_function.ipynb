{
 "cells": [
  {
   "cell_type": "markdown",
   "metadata": {
    "slideshow": {
     "slide_type": "slide"
    }
   },
   "source": [
    "# Minimize Function in TensorFlow"
   ]
  },
  {
   "cell_type": "code",
   "execution_count": null,
   "metadata": {
    "slideshow": {
     "slide_type": "subslide"
    }
   },
   "outputs": [],
   "source": [
    "import numpy as np\n",
    "import tensorflow as tf\n",
    "import matplotlib.pyplot as plt\n",
    "from IPython import display"
   ]
  },
  {
   "cell_type": "code",
   "execution_count": null,
   "metadata": {
    "slideshow": {
     "slide_type": "subslide"
    }
   },
   "outputs": [],
   "source": [
    "def plot():\n",
    "    display.clear_output(wait=True)\n",
    "    plt.figure(figsize=(15, 10))\n",
    "    \n",
    "    def func(x_v):\n",
    "        return a[0] * x_v**2 + b[0] * x_v\n",
    "    \n",
    "    plt.subplot(221)\n",
    "    \n",
    "    plt.plot(y)\n",
    "    plt.xlabel(\"iterations\")\n",
    "    plt.ylabel(\"minimum value\")\n",
    "    plt.subplot(222)\n",
    "    \n",
    "    off = 1\n",
    "    linsp = np.linspace(-off+a[0], off+a[0])\n",
    "    plt.scatter(x, func(x), c='r')\n",
    "    plt.plot(linsp, [func(i) for i in linsp])\n",
    "    plt.xlabel(\"x\")\n",
    "    plt.ylabel(\"func(x)\")\n",
    "\n",
    "    plt.show()"
   ]
  },
  {
   "cell_type": "code",
   "execution_count": null,
   "metadata": {
    "slideshow": {
     "slide_type": "slide"
    }
   },
   "outputs": [],
   "source": [
    "# create placeholders for coefficients, a and b\n",
    "a_op = # INSERT CODE\n",
    "b_op = # INSERT CODE\n",
    "\n",
    "# create variable for x, initialized to 2.0\n",
    "x_op = tf.Variable([2.0], dtype=tf.float32)\n",
    "\n",
    "# construct functional form\n",
    "y_op = a_op * x_op **2 + b_op * x_op\n",
    "\n",
    "# using optimizer with learning rate to minimize the function\n",
    "optimizer = # INSERT CODE\n",
    "\n",
    "a = [ 1.0]; b = [-2.0]; y = []\n",
    "\n",
    "with tf.Session() as sess:\n",
    "    # initialize variables, x\n",
    "    sess.run(tf.global_variables_initializer())\n",
    "    \n",
    "    # run epochs\n",
    "    for i in range(100):\n",
    "        # Session runs min_step to minimize function\n",
    "        _ , y_p = # INSERT CODE\n",
    "        \n",
    "        # save data for plot and plot\n",
    "        y.append(y_p)\n",
    "        x = sess.run(x_op)\n",
    "        plot()\n",
    "        print(\"Iteration =\", i, \" - minimum (x, y) =\", x[0], \",\", y_p[0])\n",
    "\n",
    "    # output the x value\n",
    "    x = sess.run(x_op)"
   ]
  }
 ],
 "metadata": {
  "kernelspec": {
   "display_name": "Python 3",
   "language": "python",
   "name": "python3"
  },
  "language_info": {
   "codemirror_mode": {
    "name": "ipython",
    "version": 3
   },
   "file_extension": ".py",
   "mimetype": "text/x-python",
   "name": "python",
   "nbconvert_exporter": "python",
   "pygments_lexer": "ipython3",
   "version": "3.4.3"
  }
 },
 "nbformat": 4,
 "nbformat_minor": 2
}
